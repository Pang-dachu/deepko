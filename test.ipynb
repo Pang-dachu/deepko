{
 "cells": [
  {
   "cell_type": "markdown",
   "id": "engaging-gates",
   "metadata": {},
   "source": [
    "## GPU 드라이버 확인"
   ]
  },
  {
   "cell_type": "code",
   "execution_count": null,
   "id": "brazilian-instruction",
   "metadata": {},
   "outputs": [],
   "source": [
    "!nvidia-smi"
   ]
  },
  {
   "cell_type": "markdown",
   "id": "norwegian-niagara",
   "metadata": {},
   "source": [
    "## TensorFlow"
   ]
  },
  {
   "cell_type": "code",
   "execution_count": null,
   "id": "possible-instruction",
   "metadata": {},
   "outputs": [],
   "source": [
    "import tensorflow as tf\n",
    "\n",
    "print(f'tf.__version__: {tf.__version__}')\n",
    "\n",
    "gpus = tf.config.experimental.list_physical_devices('GPU')\n",
    "print(gpus)"
   ]
  },
  {
   "cell_type": "markdown",
   "id": "banned-prairie",
   "metadata": {},
   "source": [
    "## PyTorch"
   ]
  },
  {
   "cell_type": "code",
   "execution_count": null,
   "id": "contained-works",
   "metadata": {},
   "outputs": [],
   "source": [
    "import torch\n",
    "\n",
    "print(f'torch.__version__: {torch.__version__}')\n",
    "\n",
    "print(f'GPU 사용여부: {torch.cuda.is_available()}')\n",
    "gpu_count = torch.cuda.device_count()\n",
    "print(f'GPU count: {gpu_count}')\n",
    "if gpu_count > 0:\n",
    "    print(f'GPU name: {torch.cuda.get_device_name(0)}')"
   ]
  },
  {
   "cell_type": "markdown",
   "id": "disciplinary-monday",
   "metadata": {},
   "source": [
    "## 한글 자연어 처리 패키지"
   ]
  },
  {
   "cell_type": "code",
   "execution_count": null,
   "id": "alien-legend",
   "metadata": {},
   "outputs": [],
   "source": [
    "from konlpy.tag import Okt, Kkma, Hannanum\n",
    "\n",
    "sample_sentence = '아버지가방에들어가신다.'\n",
    "\n",
    "okt = Okt()\n",
    "print(f'okt: {okt.pos(sample_sentence)}')\n",
    "\n",
    "kkma = Kkma()\n",
    "print(f'kkma: {okt.pos(sample_sentence)}')\n",
    "\n",
    "hannanum = Hannanum()\n",
    "print(f'hannanum: {hannanum.pos(sample_sentence)}')"
   ]
  },
  {
   "cell_type": "markdown",
   "id": "guided-academy",
   "metadata": {},
   "source": [
    "## Mecab 추가 설치 확인"
   ]
  },
  {
   "cell_type": "code",
   "execution_count": null,
   "id": "comfortable-listening",
   "metadata": {},
   "outputs": [],
   "source": [
    "from konlpy.tag import Mecab\n",
    "\n",
    "sample_sentence = '아버지가방에들어가신다.'\n",
    "\n",
    "mecab = Mecab()\n",
    "print(f'mecab: {mecab.pos(sample_sentence)}')"
   ]
  },
  {
   "cell_type": "markdown",
   "id": "marine-baseline",
   "metadata": {},
   "source": [
    "## 머신러닝 패키지 확인"
   ]
  },
  {
   "cell_type": "code",
   "execution_count": null,
   "id": "duplicate-victorian",
   "metadata": {},
   "outputs": [],
   "source": [
    "import sklearn\n",
    "import lightgbm\n",
    "import xgboost\n",
    "\n",
    "print(f'lightgbm: {lightgbm.__version__}\\nxgboost: {xgboost.__version__}\\nsklearn: {sklearn.__version__}')"
   ]
  },
  {
   "cell_type": "markdown",
   "id": "synthetic-atlanta",
   "metadata": {},
   "source": [
    "## 한글 폰트 시각화 확인"
   ]
  },
  {
   "cell_type": "code",
   "execution_count": null,
   "id": "automatic-interaction",
   "metadata": {},
   "outputs": [],
   "source": [
    "import matplotlib\n",
    "import matplotlib.pyplot as plt\n",
    "import pandas as pd\n",
    "\n",
    "print(f'matplotlib: {matplotlib.__version__}')\n",
    "print(f'pandas: {pd.__version__}')\n",
    "\n",
    "# Unicode warning 제거 (폰트 관련 경고메시지)\n",
    "plt.rcParams['axes.unicode_minus']=False\n",
    "\n",
    "# 그래프 출력 사이즈 설정\n",
    "plt.rcParams[\"figure.figsize\"] = (10, 6)"
   ]
  },
  {
   "cell_type": "code",
   "execution_count": null,
   "id": "excited-salon",
   "metadata": {},
   "outputs": [],
   "source": [
    "# D2Coding\n",
    "plt.rcParams['font.family'] = \"D2Coding\"\n",
    "data = {\n",
    "    '한글테스트': [10, 20, 30, 40, 50]\n",
    "}\n",
    "pd.DataFrame(data).plot(kind='bar')\n",
    "plt.title('한글 폰트 테스트', fontsize=15)\n",
    "plt.show()"
   ]
  },
  {
   "cell_type": "code",
   "execution_count": null,
   "id": "formal-dayton",
   "metadata": {},
   "outputs": [],
   "source": [
    "# NanumGothic\n",
    "plt.rcParams['font.family'] = \"NanumGothic\"\n",
    "data = {\n",
    "    '한글테스트': [10, 20, 30, 40, 50]\n",
    "}\n",
    "pd.DataFrame(data).plot(kind='bar')\n",
    "plt.title('한글 폰트 테스트', fontsize=15)\n",
    "plt.show()"
   ]
  },
  {
   "cell_type": "code",
   "execution_count": null,
   "id": "considered-calvin",
   "metadata": {},
   "outputs": [],
   "source": [
    "# NanumSquare\n",
    "plt.rcParams['font.family'] = \"NanumSquare\"\n",
    "data = {\n",
    "    '한글테스트': [10, 20, 30, 40, 50]\n",
    "}\n",
    "pd.DataFrame(data).plot(kind='bar')\n",
    "plt.title('한글 폰트 테스트', fontsize=15)\n",
    "plt.show()"
   ]
  },
  {
   "cell_type": "markdown",
   "id": "subtle-poker",
   "metadata": {},
   "source": [
    "## XGBoost CPU & GPU 학습시간 비교"
   ]
  },
  {
   "cell_type": "code",
   "execution_count": null,
   "id": "precious-values",
   "metadata": {},
   "outputs": [],
   "source": [
    "import time\n",
    "from sklearn.datasets import make_regression\n",
    "from xgboost import XGBRegressor\n",
    "\n",
    "def model_test(model_name, model):\n",
    "    x, y = make_regression(n_samples=100000, n_features=100)\n",
    "    \n",
    "    start_time = time.time()\n",
    "    model.fit(x, y)\n",
    "    end_time = time.time()\n",
    "    return f'{model_name}: 소요시간: {(end_time - start_time)} 초'\n",
    "\n",
    "xgb = XGBRegressor(n_estimators=1000, \n",
    "                   learning_rate=0.01, \n",
    "                   subsample=0.8, \n",
    "                   colsample_bytree=0.8,\n",
    "                   objective='reg:squarederror', \n",
    "                  )\n",
    "\n",
    "print(model_test('xgb (cpu)', xgb))\n",
    "\n",
    "xgb = XGBRegressor(n_estimators=1000, \n",
    "                   learning_rate=0.01, \n",
    "                   subsample=0.8, \n",
    "                   colsample_bytree=0.8,\n",
    "                   objective='reg:squarederror', \n",
    "                   tree_method='gpu_hist')\n",
    "\n",
    "print(model_test('xgb (gpu)', xgb))"
   ]
  },
  {
   "cell_type": "markdown",
   "id": "dangerous-stack",
   "metadata": {},
   "source": [
    "## 기타 패키지 출력"
   ]
  },
  {
   "cell_type": "code",
   "execution_count": null,
   "id": "moving-story",
   "metadata": {},
   "outputs": [],
   "source": [
    "!pip list"
   ]
  }
 ],
 "metadata": {
  "kernelspec": {
   "display_name": "Python 3",
   "language": "python",
   "name": "python3"
  },
  "language_info": {
   "codemirror_mode": {
    "name": "ipython",
    "version": 3
   },
   "file_extension": ".py",
   "mimetype": "text/x-python",
   "name": "python",
   "nbconvert_exporter": "python",
   "pygments_lexer": "ipython3",
   "version": "3.7.10"
  }
 },
 "nbformat": 4,
 "nbformat_minor": 5
}
